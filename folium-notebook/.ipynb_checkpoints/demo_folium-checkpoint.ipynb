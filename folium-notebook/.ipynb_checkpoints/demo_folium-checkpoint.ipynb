{
 "cells": [
  {
   "cell_type": "code",
   "execution_count": 5,
   "id": "e9570e7f-5316-4d9d-8dfa-9043d2289655",
   "metadata": {},
   "outputs": [
    {
     "data": {
      "text/plain": [
       "<folium.map.Marker at 0x7ff085700af0>"
      ]
     },
     "execution_count": 5,
     "metadata": {},
     "output_type": "execute_result"
    }
   ],
   "source": [
    "import folium\n",
    "\n",
    "m = folium.Map(location=[43.558214, 5.249263], zoom_start=15)\n",
    "\n",
    "folium.Marker(\n",
    "    [43.558678, 5.252096], popup=\"<i>Mt. Hood Meadows</i>\",\n",
    "    tooltip=\"Place du Grand Coudoux\"\n",
    ").add_to(m)\n",
    "folium.Marker(\n",
    "    [43.558010, 5.251256], popup=\"<b>Timberline Lodge</b>\",\n",
    "    tooltip=\"Salle des fêtes et Mairie\"\n",
    ").add_to(m)\n",
    "folium.Marker(\n",
    "    [43.558554, 5.254932], popup=\"<b>Timberline Lodge</b>\",\n",
    "    tooltip=\"Château de Coudoux\"\n",
    ").add_to(m)\n",
    "m"
   ]
  },
  {
   "cell_type": "code",
   "execution_count": null,
   "id": "90c355c1-cdea-486e-968a-654a386800db",
   "metadata": {},
   "outputs": [],
   "source": []
  }
 ],
 "metadata": {
  "kernelspec": {
   "display_name": "Python 3 (ipykernel)",
   "language": "python",
   "name": "python3"
  },
  "language_info": {
   "codemirror_mode": {
    "name": "ipython",
    "version": 3
   },
   "file_extension": ".py",
   "mimetype": "text/x-python",
   "name": "python",
   "nbconvert_exporter": "python",
   "pygments_lexer": "ipython3",
   "version": "3.9.7"
  }
 },
 "nbformat": 4,
 "nbformat_minor": 5
}
